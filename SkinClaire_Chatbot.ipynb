{
 "cells": [
  {
   "cell_type": "markdown",
   "metadata": {
    "id": "ouwjnriJswYC"
   },
   "source": [
    "# Setting Up SkinClaire's Environment ✨\n",
    "\n",
    "\n"
   ]
  },
  {
   "cell_type": "markdown",
   "metadata": {
    "id": "SQpAVW_YitXB"
   },
   "source": [
    "**Imports, Installations, Initializations**"
   ]
  },
  {
   "cell_type": "code",
   "execution_count": 1,
   "metadata": {
    "id": "c9o3Mmxbg37y"
   },
   "outputs": [],
   "source": [
    "import pandas as pd\n",
    "import string\n",
    "# import os\n",
    "from tabulate import tabulate"
   ]
  },
  {
   "cell_type": "code",
   "execution_count": 2,
   "metadata": {
    "id": "rMWunsoVgs4n"
   },
   "outputs": [],
   "source": [
    "#!pip install nltk\n",
    "import nltk\n",
    "from nltk.sentiment.vader import SentimentIntensityAnalyzer"
   ]
  },
  {
   "cell_type": "code",
   "execution_count": 3,
   "metadata": {
    "colab": {
     "base_uri": "https://localhost:8080/"
    },
    "id": "EUNWa3nBg19j",
    "outputId": "9b8802e7-68e4-42ef-a548-b23eb9103a99"
   },
   "outputs": [
    {
     "name": "stderr",
     "output_type": "stream",
     "text": [
      "[nltk_data] Downloading package vader_lexicon to\n",
      "[nltk_data]     /Users/aoluwolerotimi/nltk_data...\n",
      "[nltk_data]   Package vader_lexicon is already up-to-date!\n"
     ]
    },
    {
     "data": {
      "text/plain": [
       "True"
      ]
     },
     "execution_count": 3,
     "metadata": {},
     "output_type": "execute_result"
    }
   ],
   "source": [
    "nltk.download('vader_lexicon')"
   ]
  },
  {
   "cell_type": "code",
   "execution_count": 4,
   "metadata": {
    "id": "HDg_J4DS90jp"
   },
   "outputs": [],
   "source": [
    "# Initialize VADER Analyzer\n",
    "sia = SentimentIntensityAnalyzer()"
   ]
  },
  {
   "cell_type": "markdown",
   "metadata": {
    "id": "FteX7hCPwCfm"
   },
   "source": [
    "# Loading Previously Cleaned Sephora Datasets 🧼"
   ]
  },
  {
   "cell_type": "markdown",
   "metadata": {
    "id": "rdaDHaKmKBEn"
   },
   "source": [
    "# Pre-Processing Sephora Datasets 🧼"
   ]
  },
  {
   "cell_type": "code",
   "execution_count": 5,
   "metadata": {
    "colab": {
     "base_uri": "https://localhost:8080/"
    },
    "id": "7tCWxwoQj6py",
    "outputId": "8a56d0bd-78ea-4403-a37c-0061c7680c0e"
   },
   "outputs": [],
   "source": [
    "# Loading reviews dataframe for sentiment analysis\n",
    "prod_reviews = pd.read_csv('/Users/aoluwolerotimi/Code from Courses/INSY660 - Coding Foundations/SkinClaire for Git/clean_product_reviews.csv') # Change to your local path\n",
    "\n",
    "# Loading reviews dataframe for product recommendation\n",
    "product_review_new_df = pd.read_csv('/Users/aoluwolerotimi/Code from Courses/INSY660 - Coding Foundations/SkinClaire for Git/clean_product_reviews.csv') # Change to your local path\n",
    "\n",
    "# Loading product info dataframe for skin condition screening\n",
    "product_info = pd.read_csv('/Users/aoluwolerotimi/Code from Courses/INSY660 - Coding Foundations/SkinClaire for Git/product_info.csv') # Change to your local path\n"
   ]
  },
  {
   "cell_type": "code",
   "execution_count": 6,
   "metadata": {
    "id": "ccD2ON5VxDW1"
   },
   "outputs": [],
   "source": [
    "# Creating list of product IDs which have reviews for sentiment analysis\n",
    "reviewed_prods = prod_reviews['product_id'].unique()"
   ]
  },
  {
   "cell_type": "markdown",
   "metadata": {
    "id": "YENZnh-HezgY"
   },
   "source": [
    "# Defining Functions and Global Variables"
   ]
  },
  {
   "cell_type": "markdown",
   "metadata": {
    "id": "fbmdtnhihed8"
   },
   "source": [
    "**Assistive Functions**"
   ]
  },
  {
   "cell_type": "code",
   "execution_count": 7,
   "metadata": {
    "id": "29saYxsVojL5"
   },
   "outputs": [],
   "source": [
    "# Validate user input function for sentiment analysis\n",
    "def validate_input(user_input, valid_list):\n",
    "    return user_input in valid_list\n",
    "\n",
    "# Validate user input function for product recommendation\n",
    "def validate_input2(user_input, allowed_values):\n",
    "    cleaned_input2 = clean_input2(user_input)\n",
    "    return cleaned_input2 in [value.lower() for value in allowed_values]  # Compare in lowercase"
   ]
  },
  {
   "cell_type": "code",
   "execution_count": 8,
   "metadata": {
    "id": "6D_0LHpsMjab"
   },
   "outputs": [],
   "source": [
    "# Clean user input function for sentiment analysis\n",
    "def clean_input(user_input):\n",
    "    translator = str.maketrans('', '', string.punctuation)\n",
    "    cleaned_input = user_input.translate(translator).upper()\n",
    "    return cleaned_input\n",
    "\n",
    "# Clean user input function for product recommendation\n",
    "def clean_input2(user_input):\n",
    "    translator = str.maketrans('', '', string.punctuation)\n",
    "    cleaned_input2 = user_input.translate(translator).lower()  # Convert to lowercase\n",
    "    return cleaned_input2"
   ]
  },
  {
   "cell_type": "code",
   "execution_count": 9,
   "metadata": {
    "id": "1CGBBMukXIGI"
   },
   "outputs": [],
   "source": [
    "# Global variable for user menu selection\n",
    "menu_selection = \"\"\n",
    "\n",
    "# Menu selection function\n",
    "def main_menu():\n",
    "  print(\"\"\"SkinClaire: Here are some ways I can help. Would any of these interest you today? If so, enter the corresponding number.\n",
    "\n",
    "1. Help me pick a product for my skin type\n",
    "2. Help me decide between products based on previous customer reviews\n",
    "3. Help me check if the product I'm interested in is safe for my skin condition\n",
    "4. I don't need help\n",
    "\n",
    "SkinClaire: Please enter the number for your selection.\n",
    "\"\"\")\n",
    "\n",
    "  # Loop for input validation\n",
    "  while True:\n",
    "      menu_selection = input(\"You: \")\n",
    "      menu_selection = clean_input(menu_selection)\n",
    "\n",
    "      if menu_selection in [\"1\", \"ONE\"]:\n",
    "          print(\"SkinClaire: Sure, I can help you pick a product for your skin type! Let's get started.\")\n",
    "          menu_selection = \"1\"\n",
    "          break\n",
    "      elif menu_selection in [\"2\", \"TWO\"]:\n",
    "          print(\"SkinClaire: Sure, I can help you decide between those products! Let's get started.\")\n",
    "          menu_selection = \"2\"\n",
    "          break\n",
    "      elif menu_selection in [\"3\", \"THREE\"]:\n",
    "          print(\"SkinClaire: Sure, I can help you check if a product is safe for your skin condition! Let's get started.\")\n",
    "          menu_selection = \"3\"\n",
    "          break\n",
    "      elif menu_selection in [\"4\", \"FOUR\"]:\n",
    "          menu_selection = \"4\"\n",
    "          break\n",
    "      else:\n",
    "          print(\"SkinClaire: Sorry, I didn't understand. Please enter a valid option (1, 2, 3, or 4).\")\n",
    "  return menu_selection"
   ]
  },
  {
   "cell_type": "markdown",
   "metadata": {
    "id": "tZAbuypMpd-g"
   },
   "source": [
    "**Offering 1: Product Recommendation by Skin Type**"
   ]
  },
  {
   "cell_type": "code",
   "execution_count": 10,
   "metadata": {
    "id": "3qyUrM7Oz73F"
   },
   "outputs": [],
   "source": [
    "\n",
    "\n",
    "def prod_recommendation():\n",
    "\n",
    "    def get_skin_type():\n",
    "        Skin_Types = product_review_new_df['skin_type'].unique()\n",
    "        Skin_Types = [str(skin_type).strip().lower() for skin_type in Skin_Types if isinstance(skin_type, str)]\n",
    "\n",
    "        print(\"Skinclaire: Welcome to Skinclaire's recommendation system!\")\n",
    "\n",
    "        while True:\n",
    "            # Prompt to get the user's skin type.\n",
    "            user_skin_input = input(\n",
    "                \"\"\"Skinclaire: What's your skin type? Please enter one of the following: Oily, Combination, Dry, or Normal.\n",
    "                You: \"\"\")\n",
    "            user_skin_input = clean_input2(user_skin_input)\n",
    "\n",
    "            # Validate input\n",
    "            if validate_input2(user_skin_input, Skin_Types):\n",
    "                return user_skin_input\n",
    "            else:\n",
    "                print(f\"Skinclaire: Sorry, I can't seem to identify that skin type {user_skin_input} \")\n",
    "\n",
    "    def get_product_type():\n",
    "        Product_Types_Allowed = ['moisturizers', 'cleansers', 'sunscreens']\n",
    "\n",
    "        while True:\n",
    "            # Prompt to know if the user wants to specify a product type.\n",
    "            choice = input(\"Skinclaire: Would you like to specify a product type? (Yes/No): \").strip().lower()\n",
    "\n",
    "            if choice == 'yes':\n",
    "                while True:\n",
    "                    # Prompt to get the user's preferred product type.\n",
    "                    user_product_input = input(\n",
    "                        \"\"\"Skinclaire: What type of product are you looking for? Please enter one of the following: Moisturizers, Cleansers, or Sunscreens.\n",
    "                        You: \"\"\")\n",
    "                    user_product_input = clean_input2(user_product_input)\n",
    "\n",
    "                    if validate_input2(user_product_input, Product_Types_Allowed):\n",
    "                        return user_product_input\n",
    "                    else:\n",
    "                        print(f\"Skinclaire: Sorry, I can't seem to identify that product type {user_product_input} \")\n",
    "            elif choice == 'no':\n",
    "                print(\"Skinclaire: Alright! Finding the top-rated products across all types.\")\n",
    "                return None  # Return None to indicate not specifying a product type\n",
    "            else:\n",
    "                print(\"Skinclaire: Please answer with Yes or No.\")\n",
    "\n",
    "    def match_skin_type():\n",
    "        user_skin_type = get_skin_type()\n",
    "\n",
    "        if user_skin_type:\n",
    "            user_product_type = get_product_type()\n",
    "\n",
    "            # Filter products by user's skin type\n",
    "            filtered_data = product_review_new_df[\n",
    "                (product_review_new_df['skin_type'].str.strip().str.lower() == user_skin_type)\n",
    "            ]\n",
    "\n",
    "            if user_product_type is not None:\n",
    "                # Filter products by user-specified product type\n",
    "                filtered_data = filtered_data[\n",
    "                    (filtered_data['product_type'].str.strip().str.lower() == user_product_type)\n",
    "                ]\n",
    "\n",
    "            # Group by \"product_type\", \"product_id\", and \"product_name\" and calculate the average rating\n",
    "            average_ratings_by_product = filtered_data.groupby(['product_type', 'product_id', 'product_name'])['rating'].mean().reset_index()\n",
    "\n",
    "            # Sort the average_ratings_by_product DataFrame by rating in descending order\n",
    "            sorted_ratings = average_ratings_by_product.sort_values(by='rating', ascending=False)\n",
    "\n",
    "            # Get the top 10 recommendations\n",
    "            top_recommendations = sorted_ratings.head(10)\n",
    "\n",
    "            if top_recommendations.empty:\n",
    "                print(\"Skinclaire: No products found for the given input. Please try again.\")\n",
    "            else:\n",
    "                # Prepare a list to store tabulated data\n",
    "                tabulated_data = []\n",
    "\n",
    "                # Add top recommendations to the tabulated list\n",
    "                for index, row in top_recommendations.iterrows():\n",
    "                    tabulated_data.append([row['product_name'], row['product_id'], row['rating'], user_skin_type, row['product_type']])\n",
    "\n",
    "                # Define column headers\n",
    "                headers = ['Product Name', 'Product ID', 'Rating', 'Skin Type', 'Product Type']\n",
    "\n",
    "                # Use tabulate to print the tabulated data with adjusted formatting\n",
    "                print(tabulate(tabulated_data, headers=headers, tablefmt='grid', colalign=(\"left\", \"center\", \"center\", \"center\", \"center\")))\n",
    "\n",
    "    # Call the main function\n",
    "    match_skin_type()\n",
    "\n",
    "# # Call the function when needed\n",
    "# prod_recommendation()\n"
   ]
  },
  {
   "cell_type": "markdown",
   "metadata": {
    "id": "cSywnvvhjq1V"
   },
   "source": [
    "**Offering 2: Sentiment Analysis for Tipping Point Purchase Decision**\n"
   ]
  },
  {
   "cell_type": "code",
   "execution_count": 11,
   "metadata": {
    "id": "s8jvOlMhpRaV"
   },
   "outputs": [],
   "source": [
    "def sentiment_comparison():\n",
    "  # Introduce conversation\n",
    "  print(\"SkinClaire: Alright, let's find out how other skincare lovers are feeling about the products you're considering\")\n",
    "\n",
    "  # Prompt user for first input\n",
    "  op_1 = input(\n",
    "  \"\"\"SkinClaire: What's the product code for the first product you're considering? Please enter the product code.\n",
    "You:\"\"\")\n",
    "  op_1 = clean_input(op_1)\n",
    "\n",
    "  # Validate input\n",
    "  while not validate_input(op_1, reviewed_prods):\n",
    "    print(f\"SkinClaire: Sorry, I can't seem to find any reviews under {op_1} \")\n",
    "    op_1 = input(\"\"\"SkinClaire: Please try again.\n",
    "  You:\"\"\")\n",
    "    op_1 = clean_input(op_1)\n",
    "\n",
    "  # Prompt user for second input\n",
    "  op_2 = input(\n",
    "  \"\"\"SkinClaire: Noted! What's the product code for the other product you're considering?\n",
    "You:\"\"\")\n",
    "  op_2 = clean_input(op_2)\n",
    "\n",
    "  # Validate input\n",
    "  while not validate_input(op_2, reviewed_prods):\n",
    "    print(f\"SkinClaire: Sorry, I can't seem to find any reviews under {op_2} \")\n",
    "    op_2 = input(\"\"\"SkinClaire: Please try again.\n",
    "You:\"\"\")\n",
    "    op_2 = clean_input(op_2)\n",
    "\n",
    "  print(f\"SkinClaire: Thank you! Now let's see what other skin care lovers have to say about {op_1} and {op_2}\")\n",
    "\n",
    "\n",
    "  # Create subset dataframes of non-null review text based on user input\n",
    "  # Create subset based on first productID\n",
    "  op_1_revs = prod_reviews.loc[prod_reviews['product_id'] == op_1, 'review_text']\n",
    "  op_1_revs = op_1_revs.dropna()\n",
    "\n",
    "  # Subset based on second productID\n",
    "  op_2_revs = prod_reviews.loc[prod_reviews['product_id'] == op_2, 'review_text']\n",
    "  op_2_revs = op_2_revs.dropna()\n",
    "\n",
    "  # Loop through dataframe with VADER for each product to generate scores based on review title and review text.\n",
    "  op_1_sent = 0.0\n",
    "  op_2_sent = 0.0\n",
    "  max_prod = \"\"\n",
    "\n",
    "  # Sum VADER compound scores\n",
    "  for review in op_1_revs:\n",
    "      scores = sia.polarity_scores(review)\n",
    "      op_1_sent += scores[\"compound\"]\n",
    "\n",
    "  for review in op_2_revs:\n",
    "      scores = sia.polarity_scores(review)\n",
    "      op_2_sent += scores[\"compound\"]\n",
    "\n",
    "  # Calculate final scores\n",
    "  op_1_sent = op_1_sent / len(op_1_revs)\n",
    "  op_2_sent = op_2_sent / len(op_2_revs)\n",
    "\n",
    "  # Determine score comparison\n",
    "  if op_1_sent > op_2_sent:\n",
    "      max_score = op_1_sent\n",
    "      max_prod = op_1\n",
    "  elif op_1_sent < op_2_sent:\n",
    "      max_score = op_2_sent\n",
    "      max_prod = op_2\n",
    "  else:\n",
    "      max_score = \"both\"\n",
    "\n",
    "  # Ouput results\n",
    "  if max_score == \"both\":\n",
    "      print(f\"\"\"\n",
    "SkinClaire: Looks like it's a tie!\n",
    "SkinClaire: Based on the {len(op_1_revs)} reviews I analyzed for {op_1} and {len(op_2_revs)} I analyzed for {op_2}, previous customers feel the same about both products.\n",
    "SkinClaire: On average, the sentiment from the reviews is about a {round((op_1_sent * 10), 1)} out of 10\"\"\")\n",
    "  else:\n",
    "      print(f\"\"\"\n",
    "SkinClaire: Based on the {len(op_1_revs)} reviews I analyzed for {op_1} and {len(op_2_revs)} I analyzed for {op_2}, previous customers feel more positive about {max_prod}.\n",
    "SkinClaire: On average, the sentiment from the reviews for {op_1} is about a {round((op_1_sent * 10), 1)} out of 10, while for {op_2}, it's about a {round((op_2_sent * 10), 1)} out of 10 \"\"\")\n",
    "\n",
    "  print(\"SkinClaire: I hope this helps!\")\n",
    "  print(\"SkinClaire: Thanks for chatting with me today. Goodbye!\")"
   ]
  },
  {
   "cell_type": "markdown",
   "metadata": {
    "id": "rW1NA3HMqXFZ"
   },
   "source": [
    "**Offering 3: Product Screening by Skin Condition**\n"
   ]
  },
  {
   "cell_type": "code",
   "execution_count": 12,
   "metadata": {
    "id": "oUXx7ZL2pUcG"
   },
   "outputs": [],
   "source": [
    "def main_program(product_info):\n",
    "    print(\"SkinClaire: Hello! Welcome to SkinClaire, your personalized skin product checker.\")\n",
    "\n",
    "    while True:\n",
    "        choice = input(\"SkinClaire: Do you have a product you'd like to run a skin risk test on? (yes/no): \").strip().lower()\n",
    "\n",
    "        if choice == 'yes':\n",
    "            condition_screening(product_info)\n",
    "\n",
    "            cont = input(\"SkinClaire: Would you like to check another product? (yes/no): \").lower()\n",
    "            if cont == 'no':\n",
    "                print(\"SkinClaire: Thank you for using our service. Stay safe and take care of your skin!\")\n",
    "                break\n",
    "            elif cont != 'yes':\n",
    "                print(\"SkinClaire: I didn't understand that response. Exiting the program. Feel free to start again!\")\n",
    "                break\n",
    "        elif choice == 'no':\n",
    "            print(\"SkinClaire: That's okay! Feel free to come back anytime. Take care!\")\n",
    "            break\n",
    "        else:\n",
    "            print(\"SkinClaire: I'm sorry, I didn't understand that. Please answer with 'yes' or 'no'.\")\n",
    "\n",
    "\n",
    "def condition_screening(product_info):\n",
    "    while True:  # This loop will keep running until we break out of it\n",
    "        # Prompt the user for a product ID\n",
    "        product_id = input(\"\"\"SkinClaire: Please enter the product ID you want to check:\n",
    "        You: \"\"\").capitalize()\n",
    "\n",
    "        # Filter the DataFrame for the given product ID\n",
    "        product_row = product_info[product_info['product_id'] == product_id]\n",
    "\n",
    "        # If the product ID exists in the DataFrame\n",
    "        if not product_row.empty:\n",
    "            product_name = product_row['product_name'].iloc[0]\n",
    "            brand_name = product_row['brand_name'].iloc[0]\n",
    "\n",
    "            confirmation = input(f\"\"\"SkinClaire: The product name for ID {product_id} is '{product_name}' by '{brand_name}'. Is this correct? (yes/no):\n",
    "            You: \"\"\")\n",
    "\n",
    "            if confirmation.lower() == 'yes':\n",
    "                print(\"SkinClaire: Thank you for confirming!\")\n",
    "                break  # This will exit the loop and continue to the next part of the function\n",
    "            else:\n",
    "                print(\"SkinClaire: Please check the product ID and try again.\")\n",
    "        # If the product ID does not exist in the DataFrame\n",
    "        else:\n",
    "            print(f\"SkinClaire: No product found with ID {product_id}. Please check and try again.\")\n",
    "\n",
    "    # Calling get_skin_condition and passing the required parameters to it\n",
    "    get_skin_condition(product_name, product_info)\n",
    "\n",
    "\n",
    "\n",
    "def get_skin_condition(product_name, product_info):\n",
    "    sensitivity_ingredients = {\n",
    "        'Malasezia': [\"aspergillus ferment\", \"bacillus ferment\", \"alteromonas ferment extract\", \"lactococcus ferment lysate\", \"lactococcus ferment\", \"pseudoalteromonas exopolysaccharides\", \"pseudoalteromonas ferment extract\", \"thermus thermophillus ferment\", \"leuconostoc/radish root ferment filtrate\", \"leuconostoc/radish root fermentfiltrate\", \"rice ferment filtrate (sake)\", \"rice ferment filtrate\", \"rice filtrate ferment\", \"saccharomyces xylinum (kombucha) black tea ferment\", \"saccharomyces/camellia sinensis leaf/cladosiphon okamuranus/rice ferment filtrate\", \"saccharomyces/xylinum/black tea ferment\", \"saccharomyces/rice ferment filtrate extract\", \"saccharomyces/rice ferment filtrate\", \"aspergillus/rice ferment filtrate\", \"bacillus/soybean/folic acid ferment\", \"lactobacillus/eriodictyon californicum ferment extract\", \"lactobacillus/pumpkin fruit ferment filtrate\", \"lactobacillus/rice ferment filtrate\", \"lactobacillus/tomato fruit ferment extract\", \"lactobacillus/wasabia japonica root ferment extract\", \"lactobacillus/water hyacinth ferment\", \"saccharomyces cerevisiae extract\", \"saccharomyces cerevisiae\", \"saccharomyces\", \"saccharomyces ferment filtrate\", \"saccharomyces ferment\", \"saccharomyces ferments\", \"saccharomyces (lysate\", \"copper\", \"zinc) ferment\", \"saccharomyces (lysate copper zinc) ferment\", \"saccharomyces/copper ferment\", \"saccharomyces/iron ferment\", \"saccharomyces/magnesium ferment\", \"saccharomyces/silicon ferment\", \"saccharomyces/zinc ferment\", \"yeast\", \"yeast extract\", \"faex (yeast extract)\", \"hydrolyzed yeast extract\", \"yeast extract/faex/extrait de levureacai\", \"sweet almond\", \"andiroba\", \"apple\", \"apricot\", \"argan\", \"avocado\", \"baobab\", \"babassu\", \"badger\", \"barbary fig\", \"bear\", \"beefsteak\", \"bees\", \"blackberry\", \"black sea rod\", \"european blueberry\", \"borage\", \"brazil nut\", \"broccoli\", \"buriti\", \"cacay\", \"candelilla\", \"carnauba\", \"carrot\", \"castor\", \"celery\", \"wild celery\", \"bitter cherry\", \"sweet cherry\", \"chia\", \"chinaberry\", \"cloudberry\", \"cocoa\", \"coconut\", \"cod liver\", \"coffee\", \"cotton\", \"corn\", \"crambe\", \"cranberry\", \"cucumber\", \"cumin\", \"black cumin\", \"cupuacu\", \"black currant\", \"egg\", \"emu\", \"evening primrose\", \"fish\", \"flower\", \"galip\", \"ginseng\", \"goji\", \"grapeseed\", \"hazelnut\", \"horse\", \"chilean hazelnut\", \"harakeke\", \"hemp\", \"illipe\", \"kiwi\", \"jojoba\", \"karanja\", \"kukui\", \"lingonberry\", \"linseed\", \"lanolin\", \"lard\", \"mushroom\", \"milk\", \"mink\", \"morel\", \"macadamia\", \"mango\", \"marula\", \"meadowfoam\", \"mongongo\", \"moringa\", \"musk mallow\", \"mustard\", \"neem\", \"olive\", \"olus\", \"tsubaki\", \"palm\", \"brazillian palm\", \"south american palm\", \"papaya\", \"passion fruit\", \"passion flower\", \"pataua\", \"peach\", \"peanut\", \"pecan\", \"black pepper\", \"pequi\", \"japanese pine\", \"korean pine\", \"siberian pine\", \"pistachio\", \"common plum\", \"hog plum\", \"pomegranate\", \"pongamia\", \"poppy\", \"opium poppy\", \"pracaxi\", \"pumpkin\", \"purcellin\", \"purple viper's bugloss\", \"radish\", \"rapeseed\", \"raspberry\", \"rice\", \"dog rose\", \"musk rose\", \"rosehip\", \"rose\", \"safflower\", \"seabuckthorn\", \"sesame\", \"shea\", \"shorea\", \"east african shea\", \"soybean\", \"sponge gourd\", \"sunflower\", \"sweet brier\", \"tamanu\", \"tallow\", \"tall\", \"truffle\", \"tomato\", \"vegetable\", \"watermelon\", \"wheat\", \"white lupinUndecylenic Acid\", \"Lauric Acid\", \"Tridecylic Acid\", \"Myristic Acid\", \"Pentadecylic acid\", \"Palmitic Acid\", \"Palmitoleic Acid\", \"Margaric Acid\", \"Stearic Acid\", \"Vaccenic Acid\", \"Oleic Acid\", \"Elaidic Acid\", \"Linoleic Acid\", \"Linolelaidic Acid\", \"Alpha-linolenic Acid\", \"Gamma-linolenic Acid\", \"Stearidonic Acid\", \"Nonadecylic Acid\", \"Arachidic Acid\", \"Gondoic Acid\", \"Dihomo-Y-linolenic Acid\", \"Mead Acid\", \"Arachidonic Acid\", \"Eicosapentaenoic Acid\", \"Heneicosylic Acid\", \"Behenic Acid\", \"Erucic Acid\", \"Docosatetraenoic Acid\", \"Docosahexaenoic Acid\", \"Tricosylic Acid\", \"Lignoceric Acid\", \"Nervonic Acidgalactomyces\", \"galactomyces ferment filtrate\", \"galactomyces filtrate ferment\", \"saccharomyces/rosa canina fruit oil ferment filtrate\", \"saccharomyces/linseed oil ferment\", \"saccharomyces/linseed oil ferment filtrate\", \"saccharomyces/argania spinosa kernel oil ferment filtrate\", \"monascus/brassica napus seed oil ferment\", \"monascus/brassica napus seed oil ferment extract\", \"pseudozyma epicola/soybean flour/argania spinosa kernel oil ferment filtrate\", \"pseudozyma epicola/soybean flour/olive fruit oil ferment filtrate\", \"saccharomyces/sunflower seed oil ferment filtrate\"\n",
    "              ],\n",
    "        'Rosacea': [\"Alcohol\", \"Fragrance\", \"Esters\", \"Retinol\"],\n",
    "        'Eczema': [\"Alcohol\", \"Fragrance\", \"Glycol\"]\n",
    "        }\n",
    "    available_conditions = {key.capitalize() for key in sensitivity_ingredients}\n",
    "# Find the row for the given product_name\n",
    "    product_row = product_info[product_info['product_name'] == product_name]\n",
    "\n",
    "    while True:  # Keep asking until a valid input is received\n",
    "        skin_condition = input(\"\"\"SkinClaire: Which skin sensitivity do you want to test the product against? (Options: Malasezia, Rosacea, Eczema):\n",
    "        You:\"\"\").capitalize()\n",
    "\n",
    "        if skin_condition in available_conditions:\n",
    "\n",
    "            # Compare product ingredients with sensitivity ingredients\n",
    "            product_ingredients = product_row['ingredients'].iloc[0].split(', ')\n",
    "            offending_ingredients = set(product_ingredients).intersection(set(sensitivity_ingredients[skin_condition]))\n",
    "\n",
    "            if offending_ingredients:\n",
    "                print(f\"\"\"SkinClaire: {product_name} contains {len(offending_ingredients)} ingredient(s) known to promote {skin_condition}.\\nThese ingredients are not be suitable for {skin_condition}: {', '.join(offending_ingredients)}\"\"\")\n",
    "            else:\n",
    "                print(f\"SkinClaire: This product seems safe for {skin_condition}.\")\n",
    "            break  # If a valid skin condition is chosen, we break out of the loop\n",
    "        else:\n",
    "            print(\"SkinClaire: We don't have data for that skin sensitivity. Please try another one.\")\n",
    "\n",
    "\n",
    "#main_program(product_info)"
   ]
  },
  {
   "cell_type": "markdown",
   "metadata": {
    "id": "zk4ZUqa8safu"
   },
   "source": [
    "# SkinClaire in Action 🎬"
   ]
  },
  {
   "cell_type": "code",
   "execution_count": 13,
   "metadata": {
    "colab": {
     "base_uri": "https://localhost:8080/"
    },
    "id": "I58o2K28sdUw",
    "outputId": "4e3097b9-654f-493c-f441-9c3e8555a7d1"
   },
   "outputs": [
    {
     "name": "stdout",
     "output_type": "stream",
     "text": [
      "SkinClaire: Hi there, I'm SkinClaire, your skincare shopping assistant.\n",
      "SkinClaire: Here are some ways I can help. Would any of these interest you today? If so, enter the corresponding number.\n",
      "\n",
      "1. Help me pick a product for my skin type\n",
      "2. Help me decide between products based on previous customer reviews\n",
      "3. Help me check if the product I'm interested in is safe for my skin condition\n",
      "4. I don't need help\n",
      "\n",
      "SkinClaire: Please enter the number for your selection.\n",
      "\n",
      "You: 2\n",
      "SkinClaire: Sure, I can help you decide between those products! Let's get started.\n",
      "SkinClaire: Alright, let's find out how other skincare lovers are feeling about the products you're considering\n",
      "SkinClaire: What's the product code for the first product you're considering? Please enter the product code.\n",
      "You:P311143\n",
      "SkinClaire: Noted! What's the product code for the other product you're considering?\n",
      "You:P500019\n",
      "SkinClaire: Thank you! Now let's see what other skin care lovers have to say about P311143 and P500019\n",
      "\n",
      "SkinClaire: Based on the 507 reviews I analyzed for P311143 and 423 I analyzed for P500019, previous customers feel more positive about P500019.\n",
      "SkinClaire: On average, the sentiment from the reviews for P311143 is about a 5.7 out of 10, while for P500019, it's about a 7.5 out of 10 \n",
      "SkinClaire: I hope this helps!\n",
      "SkinClaire: Thanks for chatting with me today. Goodbye!\n"
     ]
    }
   ],
   "source": [
    "# Introduction message\n",
    "print(\"SkinClaire: Hi there, I'm SkinClaire, your skincare shopping assistant.\")\n",
    "\n",
    "menu_selection = main_menu()\n",
    "\n",
    "# Conversation flow based on menu selection\n",
    "if menu_selection == \"1\":\n",
    "  prod_recommendation()\n",
    "elif menu_selection == \"2\":\n",
    "  sentiment_comparison()\n",
    "elif menu_selection == \"3\":\n",
    "  condition_screening(product_info)\n",
    "else:\n",
    "  print(\"SkinClaire: Goodbye, and happy shopping!\") #End user interaction\n"
   ]
  },
  {
   "cell_type": "code",
   "execution_count": null,
   "metadata": {},
   "outputs": [],
   "source": []
  }
 ],
 "metadata": {
  "colab": {
   "provenance": []
  },
  "kernelspec": {
   "display_name": "Python 3 (ipykernel)",
   "language": "python",
   "name": "python3"
  },
  "language_info": {
   "codemirror_mode": {
    "name": "ipython",
    "version": 3
   },
   "file_extension": ".py",
   "mimetype": "text/x-python",
   "name": "python",
   "nbconvert_exporter": "python",
   "pygments_lexer": "ipython3",
   "version": "3.10.9"
  }
 },
 "nbformat": 4,
 "nbformat_minor": 1
}
